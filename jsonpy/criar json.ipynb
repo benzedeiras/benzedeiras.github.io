{
 "cells": [
  {
   "cell_type": "code",
   "execution_count": 3,
   "id": "82254ff6-f23d-4bf5-bb85-39e46986c30b",
   "metadata": {},
   "outputs": [],
   "source": [
    "import pandas as pd\n",
    "import simplejson"
   ]
  },
  {
   "cell_type": "code",
   "execution_count": 4,
   "id": "de04f339-94ca-4bf6-be2e-5c50df0d37bf",
   "metadata": {},
   "outputs": [],
   "source": [
    "dados = pd.read_csv(\"dados_benzedeiras.csv\", header=[0], index_col=0)"
   ]
  },
  {
   "cell_type": "code",
   "execution_count": 5,
   "id": "11f554e5-93e5-4710-9e55-6a3d62bbb60e",
   "metadata": {},
   "outputs": [],
   "source": [
    "dados.T.to_json(\"benzedeiras.json\", force_ascii=False, indent=4)"
   ]
  },
  {
   "cell_type": "code",
   "execution_count": null,
   "id": "527ddc63-8b9c-4fa6-ae82-412d85ba1849",
   "metadata": {},
   "outputs": [],
   "source": []
  }
 ],
 "metadata": {
  "kernelspec": {
   "display_name": "Python 3 (ipykernel)",
   "language": "python",
   "name": "python3"
  },
  "language_info": {
   "codemirror_mode": {
    "name": "ipython",
    "version": 3
   },
   "file_extension": ".py",
   "mimetype": "text/x-python",
   "name": "python",
   "nbconvert_exporter": "python",
   "pygments_lexer": "ipython3",
   "version": "3.10.5"
  }
 },
 "nbformat": 4,
 "nbformat_minor": 5
}
