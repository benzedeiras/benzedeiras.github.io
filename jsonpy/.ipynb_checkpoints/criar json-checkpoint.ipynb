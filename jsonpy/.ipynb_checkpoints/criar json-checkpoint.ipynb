{
 "cells": [
  {
   "cell_type": "code",
   "execution_count": 1,
   "id": "82254ff6-f23d-4bf5-bb85-39e46986c30b",
   "metadata": {},
   "outputs": [],
   "source": [
    "import pandas as pd\n",
    "import simplejson"
   ]
  },
  {
   "cell_type": "code",
   "execution_count": 2,
   "id": "de04f339-94ca-4bf6-be2e-5c50df0d37bf",
   "metadata": {},
   "outputs": [],
   "source": [
    "dados = pd.read_csv(\"dados_benzedeiras.csv\")"
   ]
  },
  {
   "cell_type": "code",
   "execution_count": 3,
   "id": "11f554e5-93e5-4710-9e55-6a3d62bbb60e",
   "metadata": {},
   "outputs": [],
   "source": [
    "a = {}"
   ]
  },
  {
   "cell_type": "code",
   "execution_count": 4,
   "id": "6169d9db-0315-46a7-9c2d-5a57767d0359",
   "metadata": {},
   "outputs": [],
   "source": [
    "for nome in dados[\"Nome\"]:\n",
    "    a[nome] = {}\n",
    "for i, benze in zip(range(len(a)),a):\n",
    "    a[benze] = {\n",
    "        \"Nome\": dados[\"Nome completo\"][i],\n",
    "        \"Descrição\": dados[\"Texto\"][i],\n",
    "        \"Imagem\": \"./images/\" + dados[\"imagem\"][i],\n",
    "        \"Video\": dados[\"vídeo\"][i],\n",
    "        \"Endereço\": dados[\"endereço\"][i],\n",
    "    }"
   ]
  },
  {
   "cell_type": "code",
   "execution_count": 5,
   "id": "72c0a943-e98d-459e-a9bf-b8606bbfa57c",
   "metadata": {},
   "outputs": [],
   "source": [
    "with open(\"out.json\", \"w\") as f:\n",
    "    simplejson.dump(a, f, indent = 4, ensure_ascii=False, ignore_nan=True)"
   ]
  }
 ],
 "metadata": {
  "kernelspec": {
   "display_name": "Python 3 (ipykernel)",
   "language": "python",
   "name": "python3"
  },
  "language_info": {
   "codemirror_mode": {
    "name": "ipython",
    "version": 3
   },
   "file_extension": ".py",
   "mimetype": "text/x-python",
   "name": "python",
   "nbconvert_exporter": "python",
   "pygments_lexer": "ipython3",
   "version": "3.10.5"
  }
 },
 "nbformat": 4,
 "nbformat_minor": 5
}
